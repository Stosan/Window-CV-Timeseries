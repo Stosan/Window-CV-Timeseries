{
 "cells": [
  {
   "attachments": {},
   "cell_type": "markdown",
   "metadata": {},
   "source": [
    "Here are the steps we will follow:\n",
    "\n",
    "Generate synthetic time series data\n",
    "Split the data into training and testing sets\n",
    "Define the autoregressive model\n",
    "Train the model using rolling window cross validation\n",
    "Evaluate the performance of the model on the testing set"
   ]
  },
  {
   "cell_type": "code",
   "execution_count": 1,
   "metadata": {},
   "outputs": [],
   "source": [
    "import numpy as np\n",
    "\n",
    "np.random.seed(0)\n",
    "\n",
    "n_obs = 500\n",
    "data = np.random.normal(loc=0, scale=1, size=n_obs)\n"
   ]
  },
  {
   "attachments": {},
   "cell_type": "markdown",
   "metadata": {},
   "source": [
    "Step 2: Split the data into training and testing sets\n",
    "\n",
    "We will split the data into a training set containing the first 400 observations and a testing set containing the remaining 100 observations."
   ]
  },
  {
   "cell_type": "code",
   "execution_count": null,
   "metadata": {},
   "outputs": [],
   "source": [
    "train_data = data[:400]\n",
    "test_data = data[400:]"
   ]
  },
  {
   "attachments": {},
   "cell_type": "markdown",
   "metadata": {},
   "source": [
    "Step 3: Define the autoregressive model\n",
    "\n",
    "We will define a simple autoregressive model that predicts the next observation in the time series based on the previous observation. Specifically, the model predicts the next observation as a linear combination of the previous observation and a random noise term."
   ]
  },
  {
   "cell_type": "code",
   "execution_count": null,
   "metadata": {},
   "outputs": [],
   "source": [
    "import tensorflow as tf\n",
    "from tensorflow.keras.layers import Input, Dense\n",
    "\n",
    "def create_model():\n",
    "    inputs = Input(shape=(1,))\n",
    "    x = Dense(1, activation='linear')(inputs)\n",
    "    model = tf.keras.models.Model(inputs=inputs, outputs=x)\n",
    "    return model\n"
   ]
  },
  {
   "attachments": {},
   "cell_type": "markdown",
   "metadata": {},
   "source": [
    "Step 4: Train the model using rolling window cross validation\n",
    "\n",
    "We will train the model using rolling window cross validation. Specifically, we will define a function that takes in the training data, the size of the training window, and the size of the step size. The function will then loop over the training data, training the model on a window of data and making predictions on the next observation. We will save the predictions and the actual values for each testing window."
   ]
  },
  {
   "cell_type": "code",
   "execution_count": null,
   "metadata": {},
   "outputs": [],
   "source": [
    "def rolling_window_cross_validation(train_data, window_size, step_size):\n",
    "    model = create_model()\n",
    "    model.compile(optimizer='adam', loss='mean_squared_error')\n",
    "\n",
    "    n_windows = int((len(train_data) - window_size) / step_size) + 1\n",
    "    predictions = []\n",
    "    actuals = []\n",
    "\n",
    "    for i in range(n_windows):\n",
    "        start = i * step_size\n",
    "        end = start + window_size\n",
    "        train_window = train_data[start:end]\n",
    "        test_window = train_data[end:end+1]\n",
    "\n",
    "        for j in range(len(train_window)):\n",
    "            x_train = train_window[j:j+1]\n",
    "            y_train = train_window[j+1:j+2]\n",
    "            model.fit(x_train, y_train, epochs=1, verbose=0)\n",
    "\n",
    "        x_test = test_window[:-1]\n",
    "        y_test = test_window[-1:]\n",
    "        y_pred = model.predict(x_test)\n",
    "        predictions.append(y_pred)\n",
    "        actuals.append(y_test)\n",
    "\n",
    "    return predictions, actuals\n"
   ]
  },
  {
   "attachments": {},
   "cell_type": "markdown",
   "metadata": {},
   "source": [
    "Step 5: Evaluate the performance of the model on the testing set\n",
    "\n",
    "We will use the predictions and actual values generated from the rolling window cross validation to evaluate the performance of the model on the testing set. Specifically, we will calculate the mean squared error (MSE) between the predicted and actual values."
   ]
  },
  {
   "cell_type": "code",
   "execution_count": null,
   "metadata": {},
   "outputs": [],
   "source": [
    "window_size = 20\n",
    "step_size = 10\n",
    "\n",
    "predictions, actual =rolling_window_cross_validation(train_data, window_size, step_size)"
   ]
  }
 ],
 "metadata": {
  "kernelspec": {
   "display_name": "base",
   "language": "python",
   "name": "python3"
  },
  "language_info": {
   "codemirror_mode": {
    "name": "ipython",
    "version": 3
   },
   "file_extension": ".py",
   "mimetype": "text/x-python",
   "name": "python",
   "nbconvert_exporter": "python",
   "pygments_lexer": "ipython3",
   "version": "3.9.7"
  },
  "orig_nbformat": 4
 },
 "nbformat": 4,
 "nbformat_minor": 2
}
